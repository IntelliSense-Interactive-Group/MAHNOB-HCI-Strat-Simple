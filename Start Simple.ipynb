{
 "cells": [
  {
   "cell_type": "code",
   "execution_count": 1,
   "metadata": {},
   "outputs": [],
   "source": [
    "import pandas as pd\n",
    "import numpy as np\n",
    "import pyedflib ## 读取BDF数据 \n",
    "import matplotlib.pyplot as plt\n",
    "\n",
    "# pytorch相关\n",
    "import torch\n",
    "import torchvision\n",
    "import torch.nn as nn\n",
    "\n",
    "import torch.nn.functional as F\n",
    "import torch.utils.data as data\n",
    "import torch.utils.data.dataset as Dataset\n",
    "import torch.utils.data.dataloader as DataLoader\n",
    "\n",
    "# 信号处理\n",
    "from scipy import signal\n",
    "from scipy.fftpack import fft,ifft,fftshift\n",
    "from scipy.signal import welch\n",
    "\n",
    "from utils2 import *\n",
    "from model import *\n",
    "\n",
    "from sklearn import svm\n",
    "from sklearn.metrics import f1_score\n",
    "from sklearn.metrics import accuracy_score\n",
    "from sklearn.metrics import precision_recall_fscore_support\n",
    "\n",
    "import pywt"
   ]
  },
  {
   "cell_type": "code",
   "execution_count": 2,
   "metadata": {},
   "outputs": [],
   "source": [
    "eeg_trial_list, eye_track_trial_list, arousal_label_map, valence_label_map, emotion_label_map = get_one_data_pd(1)"
   ]
  },
  {
   "cell_type": "code",
   "execution_count": 3,
   "metadata": {},
   "outputs": [],
   "source": [
    "re_eeg_data, re_eye_track_data, trial_arousal_label, trial_valence_label = get_one_data_re(1)"
   ]
  },
  {
   "cell_type": "code",
   "execution_count": null,
   "metadata": {},
   "outputs": [],
   "source": []
  },
  {
   "cell_type": "code",
   "execution_count": 4,
   "metadata": {},
   "outputs": [],
   "source": [
    "# 训练只有训练、测试集的模型\n",
    "def train_model(model, batch_size, n_epochs, verbose=True, model_save_path=None):\n",
    "    \n",
    "    # to track the training loss as the model trains\n",
    "    train_losses = []\n",
    "    # to track the validation loss as the model trains\n",
    "    valid_losses = [] \n",
    "    # to track the training correct count per epoch as the model trains\n",
    "    train_correct_count = 0.0\n",
    "    # to track the validation correct count per epoch as the model trains\n",
    "    valid_correct_count = 0.0\n",
    "    \n",
    "    best_valid_acc = 0.0\n",
    "    \n",
    "    hist = pd.DataFrame(columns=['train_loss','train_acc','valid_loss','valid_acc'])\n",
    "    \n",
    "    for epoch in range(1, n_epochs + 1):\n",
    "\n",
    "        ###################\n",
    "        # train the model #\n",
    "        ###################\n",
    "        model.train() # prep model for training\n",
    "        for batch, (data, label) in enumerate(trainloader, 1):\n",
    "            # clear the gradients of all optimized variables\n",
    "            optimizer.zero_grad()\n",
    "            # forward pass: compute predicted outputs by passing inputs to the model\n",
    "            output = model(data)\n",
    "            # calculate the loss\n",
    "            _, pred = torch.max(output, 1)\n",
    "            loss = criterion(output, label.squeeze())\n",
    "            # backward pass: compute gradient of the loss with respect to model parameters\n",
    "            loss.backward()\n",
    "            # perform a single optimization step (parameter update)\n",
    "            optimizer.step()\n",
    "            # record training loss\n",
    "            train_losses.append(loss.item())\n",
    "            # record training correct number\n",
    "            train_correct_count += ((pred==label.squeeze()).sum())\n",
    "\n",
    "        ######################    \n",
    "        # validate the model #\n",
    "        ######################\n",
    "        model.eval() # prep model for evaluation\n",
    "        for data, label in testloader:\n",
    "            # forward pass: compute predicted outputs by passing inputs to the model\n",
    "            output = model(data)\n",
    "            # calculate the loss\n",
    "            _, pred = torch.max(output, 1)\n",
    "            loss = criterion(output, label.squeeze())\n",
    "            \n",
    "            # record validation loss\n",
    "            valid_losses.append(loss.item())\n",
    "            # record validation correct number\n",
    "            valid_correct_count += ((pred==label.squeeze()).sum())\n",
    "\n",
    "        # print training/validation statistics \n",
    "        # calculate average loss over an epoch\n",
    "        train_loss = np.average(train_losses)\n",
    "        valid_loss = np.average(valid_losses)\n",
    "        \n",
    "        train_acc = train_correct_count/len(trainloader.dataset)\n",
    "        valid_acc = valid_correct_count/len(testloader.dataset)\n",
    "        \n",
    "        epoch_len = len(str(n_epochs))\n",
    "        \n",
    "        print_msg = (f'[{epoch:>{epoch_len}}/{n_epochs:>{epoch_len}}] ' +\n",
    "                     f'train_loss: {train_loss:.5f} ' + f'train_acc: {train_acc:.5f} ' +\n",
    "                     f'valid_loss: {valid_loss:.5f} ' + f'valid_acc: {valid_acc:.5f} ')\n",
    "        \n",
    "        hist.loc[epoch-1, :] = [train_loss, train_acc.item(), valid_loss, valid_acc.item()]\n",
    "        \n",
    "        if verbose:\n",
    "            print(print_msg)\n",
    "        \n",
    "        if valid_acc > best_valid_acc:\n",
    "            best_valid_acc = valid_acc\n",
    "            if model_save_path is not None:\n",
    "                torch.save(model.state_dict(), model_save_path)\n",
    "        \n",
    "        # clear lists and count to track next epoch\n",
    "        train_losses = []\n",
    "        valid_losses = []\n",
    "        train_correct_count = 0.0\n",
    "        valid_correct_count = 0.0\n",
    "    \n",
    "#     if model_save_path is not None:\n",
    "#         torch.save(model.state_dict(), model_save_path)\n",
    "        \n",
    "    return  model, hist"
   ]
  },
  {
   "cell_type": "code",
   "execution_count": 5,
   "metadata": {},
   "outputs": [],
   "source": [
    "# 训练有训练、测试、验证集的模型\n",
    "def train_model2(model, batch_size, n_epochs, verbose=True, model_save_path=None):\n",
    "    \n",
    "    # to track the training loss as the model trains\n",
    "    train_losses = []\n",
    "    # to track the validation loss as the model trains\n",
    "    test_losses = []\n",
    "    valid_losses = [] \n",
    "    # to track the training correct count per epoch as the model trains\n",
    "    train_correct_count = 0.0\n",
    "    # to track the validation correct count per epoch as the model trains\n",
    "    test_correct_count = 0.0\n",
    "    valid_correct_count = 0.0\n",
    "    \n",
    "    best_test_acc = 0.0\n",
    "    \n",
    "    hist = pd.DataFrame(columns=['train_loss','train_acc','valid_loss','valid_acc','test_loss','test_acc'])\n",
    "    \n",
    "    for epoch in range(1, n_epochs + 1):\n",
    "\n",
    "        ###################\n",
    "        # train the model #\n",
    "        ###################\n",
    "        model.train() # prep model for training\n",
    "        for batch, (data, label) in enumerate(trainloader, 1):\n",
    "            # clear the gradients of all optimized variables\n",
    "            optimizer.zero_grad()\n",
    "            # forward pass: compute predicted outputs by passing inputs to the model\n",
    "            output = model(data)\n",
    "            # calculate the loss\n",
    "            _, pred = torch.max(output, 1)\n",
    "            loss = criterion(output, label.squeeze())\n",
    "            # backward pass: compute gradient of the loss with respect to model parameters\n",
    "            loss.backward()\n",
    "            # perform a single optimization step (parameter update)\n",
    "            optimizer.step()\n",
    "            # record training loss\n",
    "            train_losses.append(loss.item())\n",
    "            # record training correct number\n",
    "            train_correct_count += ((pred==label.squeeze()).sum())\n",
    "\n",
    "        ######################    \n",
    "        # validate the model #\n",
    "        ######################\n",
    "        model.eval() # prep model for evaluation\n",
    "        for data, label in testloader:\n",
    "            # forward pass: compute predicted outputs by passing inputs to the model\n",
    "            output = model(data)\n",
    "            # calculate the loss\n",
    "            _, pred = torch.max(output, 1)\n",
    "            loss = criterion(output, label.squeeze())\n",
    "            # record validation loss\n",
    "            test_losses.append(loss.item())\n",
    "            # record validation correct number\n",
    "            test_correct_count += ((pred==label.squeeze()).sum())\n",
    "        \n",
    "        model.eval()  \n",
    "        for data, label in validloader:\n",
    "            # forward pass: compute predicted outputs by passing inputs to the model\n",
    "            output = model(data)\n",
    "            # calculate the loss\n",
    "            _, pred = torch.max(output, 1)\n",
    "            loss = criterion(output, label.squeeze())\n",
    "            # record validation loss\n",
    "            valid_losses.append(loss.item())\n",
    "            # record validation correct number\n",
    "            valid_correct_count += ((pred==label.squeeze()).sum())\n",
    "\n",
    "        # print training/validation statistics \n",
    "        # calculate average loss over an epoch\n",
    "        train_loss = np.average(train_losses)\n",
    "        valid_loss = np.average(valid_losses)\n",
    "        test_loss = np.average(test_losses)\n",
    "        \n",
    "        train_acc = train_correct_count/len(trainloader.dataset)\n",
    "        valid_acc = valid_correct_count/len(validloader.dataset)\n",
    "        test_acc = test_correct_count/len(testloader.dataset)\n",
    "        \n",
    "        epoch_len = len(str(n_epochs))\n",
    "        \n",
    "        print_msg = (f'[{epoch:>{epoch_len}}/{n_epochs:>{epoch_len}}] ' +\n",
    "                     f'train_loss: {train_loss:.5f} ' + f'train_acc: {train_acc:.5f} ' +\n",
    "                     f'test_loss: {test_loss:.5f} ' + f'test_acc: {test_acc:.5f} ' +\n",
    "                     f'valid_loss: {valid_loss:.5f} ' + f'valid_acc: {valid_acc:.5f} ')\n",
    "        \n",
    "        hist.loc[epoch-1, :] = [train_loss, train_acc.item(), valid_loss, valid_acc.item(), test_loss, test_acc.item()]\n",
    "        \n",
    "        if verbose:\n",
    "            print(print_msg)\n",
    "        \n",
    "        if test_acc > best_test_acc:\n",
    "            best_test_acc = test_acc\n",
    "            if model_save_path is not None:\n",
    "                torch.save(model.state_dict(), model_save_path)\n",
    "        \n",
    "        # clear lists and count to track next epoch\n",
    "        train_losses = []\n",
    "        valid_losses = []\n",
    "        test_losses = []\n",
    "        train_correct_count = 0.0\n",
    "        valid_correct_count = 0.0\n",
    "        test_correct_count = 0.0\n",
    "    \n",
    "#     if model_save_path is not None:\n",
    "#         torch.save(model.state_dict(), model_save_path)\n",
    "        \n",
    "    return  model, hist"
   ]
  },
  {
   "cell_type": "code",
   "execution_count": null,
   "metadata": {},
   "outputs": [],
   "source": []
  },
  {
   "cell_type": "markdown",
   "metadata": {},
   "source": [
    "# 1"
   ]
  },
  {
   "cell_type": "code",
   "execution_count": 6,
   "metadata": {},
   "outputs": [],
   "source": [
    "# 创造一个简单的模型（模型结构在model.py文件）\n",
    "model = create_model(\"Simple_CNN\", verbose=False)"
   ]
  },
  {
   "cell_type": "code",
   "execution_count": 9,
   "metadata": {},
   "outputs": [],
   "source": [
    "# 读取数据并按照7：3分割训练测试集\n",
    "train_x, train_y, test_x, test_y = split_train_test(re_eeg_data, trial_arousal_label, 0.7)"
   ]
  },
  {
   "cell_type": "code",
   "execution_count": 21,
   "metadata": {},
   "outputs": [],
   "source": [
    "# 使用不同overlap滑窗以平衡数据\n",
    "# train_x, train_y, test_x, test_y = balance_data_and_re(eeg_trial_list, arousal_label_map, window_len=256*10, overlap=0.5, split_rate=0.7)"
   ]
  },
  {
   "cell_type": "code",
   "execution_count": 11,
   "metadata": {},
   "outputs": [],
   "source": [
    "train_data = subDataset(train_x, train_y)\n",
    "test_data = subDataset(test_x, test_y)"
   ]
  },
  {
   "cell_type": "code",
   "execution_count": 12,
   "metadata": {},
   "outputs": [
    {
     "data": {
      "text/plain": [
       "(199, 32, 1, 2560)"
      ]
     },
     "execution_count": 12,
     "metadata": {},
     "output_type": "execute_result"
    }
   ],
   "source": [
    "train_data.Data.shape"
   ]
  },
  {
   "cell_type": "code",
   "execution_count": 13,
   "metadata": {},
   "outputs": [],
   "source": [
    "# criterion = nn.CrossEntropyLoss()\n",
    "# criterion = FocalLoss(3)\n",
    "criterion = FocalLossBaseCE(alpha=0.8, gamma=4)\n",
    "# 有三种不同Loss函数可供选择，其中FocalLoss是完全自己实现的，FocalLossBaseCE是在交叉熵损失基础上实现的\n",
    "# , weight_decay=0.009\n",
    "optimizer = torch.optim.Adam(model.parameters(), lr = 3e-4)"
   ]
  },
  {
   "cell_type": "code",
   "execution_count": 14,
   "metadata": {},
   "outputs": [],
   "source": [
    "# 封装数据\n",
    "Batch_size = 128\n",
    "trainloader = DataLoader.DataLoader(train_data, batch_size = Batch_size, shuffle = True, num_workers = 0)\n",
    "testloader = DataLoader.DataLoader(test_data, batch_size = Batch_size, shuffle = False, num_workers = 0)"
   ]
  },
  {
   "cell_type": "code",
   "execution_count": 15,
   "metadata": {},
   "outputs": [],
   "source": [
    "new_model, hist = train_model(model, Batch_size, n_epochs=100, verbose=False)"
   ]
  },
  {
   "cell_type": "code",
   "execution_count": 16,
   "metadata": {},
   "outputs": [],
   "source": [
    "hist['train_error'] = 1-hist['train_acc']\n",
    "hist['test_error'] = 1-hist['valid_acc']"
   ]
  },
  {
   "cell_type": "code",
   "execution_count": 17,
   "metadata": {},
   "outputs": [
    {
     "data": {
      "text/plain": [
       "<AxesSubplot:>"
      ]
     },
     "execution_count": 17,
     "metadata": {},
     "output_type": "execute_result"
    },
    {
     "data": {
      "image/png": "[encoded data removed]",
      "text/plain": [
       "<Figure size 864x432 with 1 Axes>"
      ]
     },
     "metadata": {
      "needs_background": "light"
     },
     "output_type": "display_data"
    }
   ],
   "source": [
    "hist[['train_error','test_error']].plot(figsize = (12, 6), ylim=(0,1))"
   ]
  },
  {
   "cell_type": "code",
   "execution_count": null,
   "metadata": {},
   "outputs": [],
   "source": []
  },
  {
   "cell_type": "code",
   "execution_count": null,
   "metadata": {},
   "outputs": [],
   "source": []
  },
  {
   "cell_type": "markdown",
   "metadata": {},
   "source": [
    "# 2"
   ]
  },
  {
   "cell_type": "code",
   "execution_count": 48,
   "metadata": {},
   "outputs": [],
   "source": [
    "# 读取第2个人增强后数据作为验证集\n",
    "re_eeg_data2, re_eye_track_data2, trial_arousal_label2, trial_valence_label2 = get_one_data_re(2)"
   ]
  },
  {
   "cell_type": "code",
   "execution_count": 49,
   "metadata": {},
   "outputs": [
    {
     "data": {
      "text/plain": [
       "(281, 2560, 32)"
      ]
     },
     "execution_count": 49,
     "metadata": {},
     "output_type": "execute_result"
    }
   ],
   "source": [
    "re_eeg_data2.shape"
   ]
  },
  {
   "cell_type": "code",
   "execution_count": 50,
   "metadata": {},
   "outputs": [],
   "source": [
    "# normalization数据\n",
    "norm_re_eeg_data2 = []\n",
    "for i in np.arange(len(re_eeg_data2)):\n",
    "    norm_re_eeg_data2.append(my_norm_data(re_eeg_data2[i]))\n",
    "re_eeg_data2 = np.asarray(norm_re_eeg_data2)"
   ]
  },
  {
   "cell_type": "code",
   "execution_count": 51,
   "metadata": {},
   "outputs": [
    {
     "data": {
      "text/plain": [
       "(281, 32, 2560)"
      ]
     },
     "execution_count": 51,
     "metadata": {},
     "output_type": "execute_result"
    }
   ],
   "source": [
    "re_eeg_data2.shape"
   ]
  },
  {
   "cell_type": "code",
   "execution_count": 52,
   "metadata": {},
   "outputs": [],
   "source": [
    "valid_x = re_eeg_data2[:,:,np.newaxis,:]\n",
    "valid_y = trial_arousal_label2.reshape(-1,1)"
   ]
  },
  {
   "cell_type": "code",
   "execution_count": 53,
   "metadata": {},
   "outputs": [
    {
     "data": {
      "text/plain": [
       "(281, 32, 1, 2560)"
      ]
     },
     "execution_count": 53,
     "metadata": {},
     "output_type": "execute_result"
    }
   ],
   "source": [
    "valid_x.shape"
   ]
  },
  {
   "cell_type": "code",
   "execution_count": 68,
   "metadata": {},
   "outputs": [],
   "source": [
    "valid_data = subDataset(valid_x, valid_y)"
   ]
  },
  {
   "cell_type": "code",
   "execution_count": 69,
   "metadata": {},
   "outputs": [],
   "source": [
    "train_data = subDataset(train_x, train_y)\n",
    "test_data = subDataset(test_x, test_y)"
   ]
  },
  {
   "cell_type": "code",
   "execution_count": 70,
   "metadata": {},
   "outputs": [
    {
     "name": "stdout",
     "output_type": "stream",
     "text": [
      "----------------------------------------------------------------\n",
      "        Layer (type)               Output Shape         Param #\n",
      "================================================================\n",
      "            Conv1d-1          [-1, 64, 1, 2560]           2,112\n",
      "       BatchNorm2d-2          [-1, 64, 1, 2560]             128\n",
      "              ReLU-3          [-1, 64, 1, 2560]               0\n",
      "            Conv1d-4           [-1, 1, 1, 2560]              65\n",
      "       BatchNorm2d-5           [-1, 1, 1, 2560]               2\n",
      "              ReLU-6           [-1, 1, 1, 2560]               0\n",
      "            Linear-7                  [-1, 128]         327,808\n",
      "              ReLU-8                  [-1, 128]               0\n",
      "           Dropout-9                  [-1, 128]               0\n",
      "           Linear-10                    [-1, 3]             387\n",
      "================================================================\n",
      "Total params: 330,502\n",
      "Trainable params: 330,502\n",
      "Non-trainable params: 0\n",
      "----------------------------------------------------------------\n",
      "Input size (MB): 0.31\n",
      "Forward/backward pass size (MB): 3.81\n",
      "Params size (MB): 1.26\n",
      "Estimated Total Size (MB): 5.38\n",
      "----------------------------------------------------------------\n",
      "Simple_CNN(\n",
      "  (conv1): Sequential(\n",
      "    (0): Conv1d(32, 64, kernel_size=(1, 1), stride=(1,))\n",
      "    (1): BatchNorm2d(64, eps=1e-05, momentum=0.1, affine=True, track_running_stats=True)\n",
      "    (2): ReLU()\n",
      "  )\n",
      "  (conv2): Conv1d(64, 1, kernel_size=(1, 1), stride=(1,))\n",
      "  (conv3): Sequential(\n",
      "    (0): BatchNorm2d(1, eps=1e-05, momentum=0.1, affine=True, track_running_stats=True)\n",
      "    (1): ReLU()\n",
      "  )\n",
      "  (fc): Sequential(\n",
      "    (0): Linear(in_features=2560, out_features=128, bias=True)\n",
      "    (1): ReLU()\n",
      "    (2): Dropout(p=0.5, inplace=False)\n",
      "    (3): Linear(in_features=128, out_features=3, bias=True)\n",
      "  )\n",
      ")\n"
     ]
    }
   ],
   "source": [
    "# 创建模型\n",
    "model = create_model(\"Simple_CNN\")"
   ]
  },
  {
   "cell_type": "code",
   "execution_count": 71,
   "metadata": {},
   "outputs": [],
   "source": [
    "# criterion = nn.CrossEntropyLoss()\n",
    "# criterion = FocalLoss(3)\n",
    "criterion = FocalLossBaseCE(alpha=0.8, gamma=4)\n",
    "optimizer = torch.optim.Adam(model.parameters(), lr = 3e-4)"
   ]
  },
  {
   "cell_type": "code",
   "execution_count": 72,
   "metadata": {},
   "outputs": [],
   "source": [
    "Batch_size = 64\n",
    "trainloader = DataLoader.DataLoader(train_data, batch_size = Batch_size, shuffle = True, num_workers = 0)\n",
    "testloader = DataLoader.DataLoader(test_data, batch_size = Batch_size, shuffle = False, num_workers = 0)\n",
    "validloader = DataLoader.DataLoader(valid_data, batch_size = Batch_size, shuffle = False, num_workers = 0)"
   ]
  },
  {
   "cell_type": "code",
   "execution_count": 73,
   "metadata": {},
   "outputs": [],
   "source": [
    "new_model, hist = train_model2(model, Batch_size, n_epochs=100, verbose=False)"
   ]
  },
  {
   "cell_type": "code",
   "execution_count": 74,
   "metadata": {},
   "outputs": [],
   "source": [
    "hist['train_error'] = 1-hist['train_acc']\n",
    "hist['test_error'] = 1-hist['test_acc']\n",
    "hist['valid_error'] = 1-hist['valid_acc']"
   ]
  },
  {
   "cell_type": "code",
   "execution_count": 75,
   "metadata": {},
   "outputs": [
    {
     "data": {
      "text/plain": [
       "<AxesSubplot:>"
      ]
     },
     "execution_count": 75,
     "metadata": {},
     "output_type": "execute_result"
    },
    {
     "data": {
      "image/png": "[encoded data removed]",
      "text/plain": [
       "<Figure size 864x432 with 1 Axes>"
      ]
     },
     "metadata": {
      "needs_background": "light"
     },
     "output_type": "display_data"
    }
   ],
   "source": [
    "hist[['train_error','test_error','valid_error']].plot(figsize = (12, 6), ylim=(0,1))"
   ]
  },
  {
   "cell_type": "code",
   "execution_count": null,
   "metadata": {},
   "outputs": [],
   "source": []
  },
  {
   "cell_type": "code",
   "execution_count": null,
   "metadata": {},
   "outputs": [],
   "source": []
  },
  {
   "cell_type": "markdown",
   "metadata": {},
   "source": [
    "# 3"
   ]
  },
  {
   "cell_type": "code",
   "execution_count": 77,
   "metadata": {},
   "outputs": [],
   "source": [
    "eeg_trial_list, eye_track_trial_list, arousal_label_map, valence_label_map, emotion_label_map = get_one_data_pd(1)"
   ]
  },
  {
   "cell_type": "code",
   "execution_count": 78,
   "metadata": {},
   "outputs": [],
   "source": [
    "# 直接获取增强后第一个受试者的数据\n",
    "re_eeg_data, re_eye_track_data, trial_arousal_label, trial_valence_label = get_one_data_re(1)"
   ]
  },
  {
   "cell_type": "code",
   "execution_count": 79,
   "metadata": {},
   "outputs": [],
   "source": [
    "# 划分训练测试集\n",
    "train_x, train_y, test_x, test_y = split_train_test(re_eeg_data, trial_arousal_label, 0.7)"
   ]
  },
  {
   "cell_type": "code",
   "execution_count": 80,
   "metadata": {},
   "outputs": [],
   "source": [
    "train_data = subDataset(train_x, train_y)\n",
    "test_data = subDataset(test_x, test_y)"
   ]
  },
  {
   "cell_type": "code",
   "execution_count": 81,
   "metadata": {},
   "outputs": [],
   "source": [
    "# 获取增强后第二个受试者的数据\n",
    "re_eeg_data2, re_eye_track_data2, trial_arousal_label2, trial_valence_label2 = get_one_data_re(2)"
   ]
  },
  {
   "cell_type": "code",
   "execution_count": 82,
   "metadata": {},
   "outputs": [],
   "source": [
    "# normalization数据\n",
    "norm_re_eeg_data2 = []\n",
    "for i in np.arange(len(re_eeg_data2)):\n",
    "    norm_re_eeg_data2.append(my_norm_data(re_eeg_data2[i]))\n",
    "re_eeg_data2 = np.asarray(norm_re_eeg_data2)"
   ]
  },
  {
   "cell_type": "code",
   "execution_count": 83,
   "metadata": {},
   "outputs": [],
   "source": [
    "valid_x = re_eeg_data2[:,:,np.newaxis,:]\n",
    "valid_y = trial_arousal_label2.reshape(-1,1)"
   ]
  },
  {
   "cell_type": "code",
   "execution_count": 84,
   "metadata": {},
   "outputs": [],
   "source": [
    "valid_data = subDataset(valid_x, valid_y)"
   ]
  },
  {
   "cell_type": "code",
   "execution_count": 85,
   "metadata": {},
   "outputs": [],
   "source": [
    "Batch_size = 64\n",
    "trainloader = DataLoader.DataLoader(train_data, batch_size = Batch_size, shuffle = True, num_workers = 0)\n",
    "testloader = DataLoader.DataLoader(test_data, batch_size = Batch_size, shuffle = False, num_workers = 0)\n",
    "validloader = DataLoader.DataLoader(valid_data, batch_size = Batch_size, shuffle = False, num_workers = 0)"
   ]
  },
  {
   "cell_type": "code",
   "execution_count": null,
   "metadata": {},
   "outputs": [],
   "source": []
  },
  {
   "cell_type": "code",
   "execution_count": 86,
   "metadata": {},
   "outputs": [],
   "source": [
    "# 一个域对抗网络（具体模型在model.py中）\n",
    "model = create_model(\"CNNModel\", verbose=False)"
   ]
  },
  {
   "cell_type": "code",
   "execution_count": 87,
   "metadata": {},
   "outputs": [],
   "source": [
    "for p in model.parameters():\n",
    "    p.requires_grad = True"
   ]
  },
  {
   "cell_type": "code",
   "execution_count": 88,
   "metadata": {},
   "outputs": [],
   "source": [
    "loss_class = nn.CrossEntropyLoss()\n",
    "loss_domain = nn.CrossEntropyLoss()\n",
    "\n",
    "optimizer = torch.optim.Adam(model.parameters(), lr = 3e-4, weight_decay=0.009)"
   ]
  },
  {
   "cell_type": "code",
   "execution_count": null,
   "metadata": {},
   "outputs": [],
   "source": []
  },
  {
   "cell_type": "code",
   "execution_count": 89,
   "metadata": {},
   "outputs": [],
   "source": [
    "def train_model3(model, batch_size, n_epochs, verbose=True, model_save_path=None):\n",
    "    \n",
    "    # to track the training loss as the model trains\n",
    "    train_losses = []\n",
    "    # to track the validation loss as the model trains\n",
    "    test_losses = []\n",
    "    valid_losses = [] \n",
    "    # to track the training correct count per epoch as the model trains\n",
    "    train_correct_count = 0.0\n",
    "    # to track the validation correct count per epoch as the model trains\n",
    "    test_correct_count = 0.0\n",
    "    valid_correct_count = 0.0\n",
    "    \n",
    "    best_test_acc = 0.0\n",
    "    \n",
    "    hist = pd.DataFrame(columns=['train_loss','train_acc','valid_loss','valid_acc','test_loss','test_acc'])\n",
    "    \n",
    "    for epoch in range(1, n_epochs + 1):\n",
    "        \n",
    "        len_dataloader = min(len(trainloader), len(validloader))\n",
    "        data_source_iter = iter(trainloader)\n",
    "        data_target_iter = iter(validloader)\n",
    "        \n",
    "        ###################\n",
    "        # train the model #\n",
    "        ###################\n",
    "        model.train() # prep model for training\n",
    "        \n",
    "        i = 0\n",
    "        while i < len_dataloader:\n",
    "            \n",
    "            p = float(i + epoch * len_dataloader) / n_epochs / len_dataloader\n",
    "            alpha = 2. / (1. + np.exp(-10 * p)) - 1\n",
    "            \n",
    "            # training model using source data\n",
    "            data_source = data_source_iter.next()\n",
    "            s_data, s_label = data_source\n",
    "\n",
    "            model.zero_grad()\n",
    "            batch_size = len(s_label)\n",
    "            \n",
    "            domain_label = torch.zeros(batch_size).long().cuda()\n",
    "        \n",
    "            class_output, domain_output = model(input_data=s_data, alpha=alpha)\n",
    "            err_s_label = loss_class(class_output, s_label.squeeze())\n",
    "            err_s_domain = loss_domain(domain_output, domain_label.squeeze())\n",
    "            \n",
    "            # training model using target data\n",
    "            data_target = data_target_iter.next()\n",
    "            t_data, _ = data_target\n",
    "            \n",
    "            batch_size = len(t_data)\n",
    "            \n",
    "            domain_label = torch.ones(batch_size).long().cuda()\n",
    "\n",
    "            _, domain_output = model(input_data=t_data, alpha=alpha)\n",
    "            err_t_domain = loss_domain(domain_output, domain_label.squeeze())\n",
    "            err = err_t_domain + err_s_domain + err_s_label\n",
    "            err.backward()\n",
    "            optimizer.step()\n",
    "\n",
    "            i += 1\n",
    "            \n",
    "#             print('epoch: %d, [iter: %d / all %d], err_s_label: %f, err_s_domain: %f, err_t_domain: %f' % (epoch, i, len_dataloader, err_s_label.cpu().data.numpy(),\n",
    "#                  err_s_domain.cpu().data.numpy(), err_t_domain.cpu().data.numpy()))\n",
    "        \n",
    "            train_losses.append(err_s_label.item())\n",
    "            _, pred = torch.max(class_output, 1)\n",
    "            train_correct_count += ((pred==s_label.squeeze()).sum())\n",
    "            \n",
    "#         for batch, (data, label) in enumerate(trainloader, 1):\n",
    "#             # clear the gradients of all optimized variables\n",
    "#             optimizer.zero_grad()\n",
    "#             # forward pass: compute predicted outputs by passing inputs to the model\n",
    "#             output = model(data)\n",
    "#             # calculate the loss\n",
    "#             _, pred = torch.max(output, 1)\n",
    "#             loss = criterion(output, label.squeeze())\n",
    "#             # backward pass: compute gradient of the loss with respect to model parameters\n",
    "#             loss.backward()\n",
    "#             # perform a single optimization step (parameter update)\n",
    "#             optimizer.step()\n",
    "#             # record training loss\n",
    "#             train_losses.append(loss.item())\n",
    "#             # record training correct number\n",
    "#             train_correct_count += ((pred==label.squeeze()).sum())\n",
    "\n",
    "        ######################    \n",
    "        # validate the model #\n",
    "        ######################\n",
    "        model.eval() # prep model for evaluation\n",
    "        for data, label in testloader:\n",
    "            # forward pass: compute predicted outputs by passing inputs to the model\n",
    "            output, _ = model(data,alpha=0)\n",
    "            # calculate the loss\n",
    "            _, pred = torch.max(output, 1)\n",
    "            loss = loss_class(output, label.squeeze())\n",
    "            # record validation loss\n",
    "            test_losses.append(loss.item())\n",
    "            # record validation correct number\n",
    "            test_correct_count += ((pred==label.squeeze()).sum())\n",
    "        \n",
    "        model.eval()  \n",
    "        for data, label in validloader:\n",
    "            # forward pass: compute predicted outputs by passing inputs to the model\n",
    "            output, _ = model(data,alpha=0)\n",
    "            # calculate the loss\n",
    "            _, pred = torch.max(output, 1)\n",
    "            loss = loss_class(output, label.squeeze())\n",
    "            # record validation loss\n",
    "            valid_losses.append(loss.item())\n",
    "            # record validation correct number\n",
    "            valid_correct_count += ((pred==label.squeeze()).sum())\n",
    "\n",
    "        # print training/validation statistics \n",
    "        # calculate average loss over an epoch\n",
    "        train_loss = np.average(train_losses)\n",
    "        valid_loss = np.average(valid_losses)\n",
    "        test_loss = np.average(test_losses)\n",
    "        \n",
    "        train_acc = train_correct_count/len(trainloader.dataset)\n",
    "        valid_acc = valid_correct_count/len(validloader.dataset)\n",
    "        test_acc = test_correct_count/len(testloader.dataset)\n",
    "        \n",
    "        epoch_len = len(str(n_epochs))\n",
    "        \n",
    "        print_msg = (f'[{epoch:>{epoch_len}}/{n_epochs:>{epoch_len}}] ' +\n",
    "                     f'train_loss: {train_loss:.5f} ' + f'train_acc: {train_acc:.5f} ' +\n",
    "                     f'test_loss: {test_loss:.5f} ' + f'test_acc: {test_acc:.5f} ' +\n",
    "                     f'valid_loss: {valid_loss:.5f} ' + f'valid_acc: {valid_acc:.5f} ')\n",
    "        \n",
    "        hist.loc[epoch-1, :] = [train_loss, train_acc.item(), valid_loss, valid_acc.item(), test_loss, test_acc.item()]\n",
    "        \n",
    "        if verbose:\n",
    "            print(print_msg)\n",
    "        \n",
    "        if test_acc > best_test_acc:\n",
    "            best_test_acc = test_acc\n",
    "            if model_save_path is not None:\n",
    "                torch.save(model.state_dict(), model_save_path)\n",
    "        \n",
    "        # clear lists and count to track next epoch\n",
    "        train_losses = []\n",
    "        valid_losses = []\n",
    "        test_losses = []\n",
    "        train_correct_count = 0.0\n",
    "        valid_correct_count = 0.0\n",
    "        test_correct_count = 0.0\n",
    "    \n",
    "#     if model_save_path is not None:\n",
    "#         torch.save(model.state_dict(), model_save_path)\n",
    "        \n",
    "    return  model, hist"
   ]
  },
  {
   "cell_type": "code",
   "execution_count": 90,
   "metadata": {},
   "outputs": [],
   "source": [
    "model, hist = train_model3(model, Batch_size, n_epochs=100, verbose=False)"
   ]
  },
  {
   "cell_type": "code",
   "execution_count": 91,
   "metadata": {},
   "outputs": [],
   "source": [
    "hist['train_error'] = 1-hist['train_acc']\n",
    "hist['test_error'] = 1-hist['test_acc']\n",
    "hist['valid_error'] = 1-hist['valid_acc']"
   ]
  },
  {
   "cell_type": "code",
   "execution_count": 92,
   "metadata": {},
   "outputs": [
    {
     "data": {
      "text/plain": [
       "<AxesSubplot:>"
      ]
     },
     "execution_count": 92,
     "metadata": {},
     "output_type": "execute_result"
    },
    {
     "data": {
      "image/png": "[encoded data removed]",
      "text/plain": [
       "<Figure size 864x432 with 1 Axes>"
      ]
     },
     "metadata": {
      "needs_background": "light"
     },
     "output_type": "display_data"
    }
   ],
   "source": [
    "hist[['train_error','test_error','valid_error']].plot(figsize = (12, 6), ylim=(0,1))"
   ]
  },
  {
   "cell_type": "code",
   "execution_count": null,
   "metadata": {},
   "outputs": [],
   "source": []
  }
 ],
 "metadata": {
  "kernelspec": {
   "display_name": "Python [conda env:pytorch_gpu]",
   "language": "python",
   "name": "conda-env-pytorch_gpu-py"
  },
  "language_info": {
   "codemirror_mode": {
    "name": "ipython",
    "version": 3
   },
   "file_extension": ".py",
   "mimetype": "text/x-python",
   "name": "python",
   "nbconvert_exporter": "python",
   "pygments_lexer": "ipython3",
   "version": "3.6.12"
  }
 },
 "nbformat": 4,
 "nbformat_minor": 4
}
